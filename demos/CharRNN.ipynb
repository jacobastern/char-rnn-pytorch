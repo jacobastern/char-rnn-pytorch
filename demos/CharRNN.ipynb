{
 "cells": [
  {
   "cell_type": "markdown",
   "metadata": {},
   "source": [
    "# Character RNN\n",
    "#### Description:\n",
    "We implement a character-level recurrent neural network using the GRU as our recurrent unit. We train on the CharRNN on Michael Jackson lyrics, and get some interesting results."
   ]
  },
  {
   "cell_type": "code",
   "execution_count": 3,
   "metadata": {
    "colab": {},
    "colab_type": "code",
    "id": "WwKBZAxSJ_7e"
   },
   "outputs": [
    {
     "name": "stdout",
     "output_type": "stream",
     "text": [
      "Collecting unidecode\n",
      "\u001b[?25l  Downloading https://files.pythonhosted.org/packages/d0/42/d9edfed04228bacea2d824904cae367ee9efd05e6cce7ceaaedd0b0ad964/Unidecode-1.1.1-py2.py3-none-any.whl (238kB)\n",
      "\u001b[K     |################################| 245kB 560kB/s eta 0:00:01\n",
      "\u001b[?25hInstalling collected packages: unidecode\n",
      "Successfully installed unidecode-1.1.1\n"
     ]
    }
   ],
   "source": [
    "# !pip3 install torch\n",
    "# !pip3 install torchvision\n",
    "# !pip3 install tqdm\n",
    "!pip3 install unidecode"
   ]
  },
  {
   "cell_type": "code",
   "execution_count": 7,
   "metadata": {
    "colab": {},
    "colab_type": "code",
    "id": "uN0jhJnyOiWh"
   },
   "outputs": [],
   "source": [
    "import torch\n",
    "import torch.nn as nn\n",
    "from torch.utils.data import Dataset, DataLoader\n",
    "from torchvision import datasets\n",
    "import torchvision\n",
    "import torch.optim as optim\n",
    "from torch.autograd import Variable\n",
    "\n",
    "import os\n",
    "import zipfile\n",
    "import matplotlib.pyplot as plt\n",
    "\n",
    "import unidecode\n",
    "import string\n",
    "import random\n",
    "import time\n",
    " \n",
    "import pdb"
   ]
  },
  {
   "cell_type": "markdown",
   "metadata": {
    "colab_type": "text",
    "id": "9gj3UWCw2J6q"
   },
   "source": [
    "# Dataset Class"
   ]
  },
  {
   "cell_type": "code",
   "execution_count": 15,
   "metadata": {
    "colab": {
     "base_uri": "https://localhost:8080/",
     "height": 251
    },
    "colab_type": "code",
    "executionInfo": {
     "elapsed": 749,
     "status": "error",
     "timestamp": 1540322700079,
     "user": {
      "displayName": "Jacob Stern",
      "photoUrl": "",
      "userId": "14292350991336586550"
     },
     "user_tz": 360
    },
    "id": "RQS-dGYoKXQw",
    "outputId": "b7dace2f-fc85-4666-aefe-cbfc06e2b047"
   },
   "outputs": [],
   "source": [
    "class TextDataset(Dataset):\n",
    "    def __init__(self, chunk_len=200, upload_files=False, file_name=\"michael-jackson.txt\"):\n",
    "        \"\"\"Creates a Pytorch Dataset from a text corpus.\n",
    "        Args:\n",
    "            chunk_len (int): the length of each training segment of text\n",
    "            upload_file (bool): whether or not to upload your own text corpus to train on\n",
    "            file_name (str): the name of the file to train on. A full list of files is found here: https://www.kaggle.com/paultimothymooney/poetry\n",
    "        \"\"\"\n",
    "        \n",
    "        root = '../data/'\n",
    "\n",
    "        if upload_files:\n",
    "            uploaded = files.upload() # Upload your own file\n",
    "            file_name = list(uploaded.keys())[0]\n",
    "            os.rename(file_name, os.path.join(root, file_name))\n",
    "            \n",
    "        text_files = os.listdir(root)\n",
    "        self.training_file = text_files[text_files.index(file_name)]\n",
    "        self.training_file = unidecode.unidecode(open(os.path.join(root, self.training_file)).read())\n",
    "        self.segment_extractor = self.FileSegmentExtractor(self.training_file, chunk_len)\n",
    "\n",
    "        with open(self.training_file, 'r') as file:\n",
    "            text = file.read().strip().split()\n",
    "            self.len = sum(len(word) for word in text)\n",
    "\n",
    "    @staticmethod\n",
    "    def extract_zip(zip_path):\n",
    "        \"\"\"Extraxts a file in .zip format to the root directory\n",
    "        Args:\n",
    "            zip_path (str): the path to the zip file\n",
    "        \"\"\"\n",
    "        print('Unzipping {}'.format(zip_path))\n",
    "        with zipfile.ZipFile(zip_path,\"r\") as zip_ref:\n",
    "            zip_ref.extractall(os.path.dirname(self.root))\n",
    "    \n",
    "    def __len__(self):\n",
    "        return self.len\n",
    "        \n",
    "    class FileSegmentExtractor():\n",
    "        def __init__(self, training_file, chunk_len):\n",
    "            \"\"\"Extracts chunk_len segments from the data for training\n",
    "            Args:\n",
    "                training_file (str): the training file path\n",
    "                chunk_len (int): the number of characters in each chunk\n",
    "            \"\"\"\n",
    "            self.chunk_len = chunk_len\n",
    "            self.training_file = training_file\n",
    "            self.file_len = len(self.training_file)\n",
    "            # A string including all printable characters\n",
    "            self.all_characters = string.printable\n",
    "            self.n_characters = len(self.all_characters)\n",
    "            \n",
    "        def random_chunk(self):\n",
    "            \"\"\"Extracts a random chunk from the file\n",
    "            Returns:\n",
    "                (str): a string of length (chunk_len)\n",
    "            \"\"\"\n",
    "            start_index = random.randint(0, self.file_len - self.chunk_len)\n",
    "            end_index = start_index + self.chunk_len + 1\n",
    "            return self.training_file[start_index:end_index]\n",
    "\n",
    "        def char_tensor(self, string):\n",
    "            \"\"\"Converts characters in a string to a numerical index representing that character.\n",
    "            Args:\n",
    "                string (str): the string to convert\n",
    "            Returns:\n",
    "                tensor (torch.Tensor): a tensor containing the indices of each letter in the string\n",
    "            \"\"\"\n",
    "            tensor = torch.zeros(len(string)).long()\n",
    "            for c in range(len(string)):                \n",
    "                tensor[c] = self.all_characters.index(string[c])\n",
    "            return tensor\n",
    "\n",
    "        \n",
    "        def random_training_set(self):\n",
    "            \"\"\"Obtains a random set of data to train on.\n",
    "            Returns:\n",
    "                inp (torch.Tensor): a chunk of characters from the file\n",
    "                target (torch.Tensor): the same chunk of characters offset by one\n",
    "            \"\"\"\n",
    "            chunk = self.random_chunk()\n",
    "            inp = self.char_tensor(chunk[:-1])\n",
    "            target = self.char_tensor(chunk[1:])\n",
    "            return inp, target"
   ]
  },
  {
   "cell_type": "markdown",
   "metadata": {
    "colab_type": "text",
    "id": "D-0hC1GV14Gy"
   },
   "source": [
    "# Take a look at the data"
   ]
  },
  {
   "cell_type": "code",
   "execution_count": 16,
   "metadata": {
    "colab": {
     "base_uri": "https://localhost:8080/",
     "height": 102
    },
    "colab_type": "code",
    "executionInfo": {
     "elapsed": 1128,
     "status": "ok",
     "timestamp": 1539659284932,
     "user": {
      "displayName": "Jacob Stern",
      "photoUrl": "",
      "userId": "14292350991336586550"
     },
     "user_tz": 360
    },
    "id": "gI4ppqOe12_1",
    "outputId": "548fd66d-7119-497c-fdae-744cff23bade"
   },
   "outputs": [
    {
     "ename": "UnicodeDecodeError",
     "evalue": "'ascii' codec can't decode byte 0xc2 in position 184148: ordinal not in range(128)",
     "output_type": "error",
     "traceback": [
      "\u001b[0;31m---------------------------------------------------------------------------\u001b[0m",
      "\u001b[0;31mUnicodeDecodeError\u001b[0m                        Traceback (most recent call last)",
      "\u001b[0;32m<ipython-input-16-31e0318de335>\u001b[0m in \u001b[0;36m<module>\u001b[0;34m\u001b[0m\n\u001b[1;32m     18\u001b[0m \u001b[0;31m# explore_data()\u001b[0m\u001b[0;34m\u001b[0m\u001b[0;34m\u001b[0m\u001b[0;34m\u001b[0m\u001b[0m\n\u001b[1;32m     19\u001b[0m \u001b[0;34m\u001b[0m\u001b[0m\n\u001b[0;32m---> 20\u001b[0;31m \u001b[0mdataset\u001b[0m \u001b[0;34m=\u001b[0m \u001b[0mTextDataset\u001b[0m\u001b[0;34m(\u001b[0m\u001b[0;34m)\u001b[0m\u001b[0;34m\u001b[0m\u001b[0;34m\u001b[0m\u001b[0m\n\u001b[0m",
      "\u001b[0;32m<ipython-input-15-3e3d2a0a8e0c>\u001b[0m in \u001b[0;36m__init__\u001b[0;34m(self, chunk_len, upload_files, file_name)\u001b[0m\n\u001b[1;32m     17\u001b[0m         \u001b[0mtext_files\u001b[0m \u001b[0;34m=\u001b[0m \u001b[0mos\u001b[0m\u001b[0;34m.\u001b[0m\u001b[0mlistdir\u001b[0m\u001b[0;34m(\u001b[0m\u001b[0mroot\u001b[0m\u001b[0;34m)\u001b[0m\u001b[0;34m\u001b[0m\u001b[0;34m\u001b[0m\u001b[0m\n\u001b[1;32m     18\u001b[0m         \u001b[0mself\u001b[0m\u001b[0;34m.\u001b[0m\u001b[0mtraining_file\u001b[0m \u001b[0;34m=\u001b[0m \u001b[0mtext_files\u001b[0m\u001b[0;34m[\u001b[0m\u001b[0mtext_files\u001b[0m\u001b[0;34m.\u001b[0m\u001b[0mindex\u001b[0m\u001b[0;34m(\u001b[0m\u001b[0mfile_name\u001b[0m\u001b[0;34m)\u001b[0m\u001b[0;34m]\u001b[0m\u001b[0;34m\u001b[0m\u001b[0;34m\u001b[0m\u001b[0m\n\u001b[0;32m---> 19\u001b[0;31m         \u001b[0mself\u001b[0m\u001b[0;34m.\u001b[0m\u001b[0mtraining_file\u001b[0m \u001b[0;34m=\u001b[0m \u001b[0munidecode\u001b[0m\u001b[0;34m.\u001b[0m\u001b[0munidecode\u001b[0m\u001b[0;34m(\u001b[0m\u001b[0mopen\u001b[0m\u001b[0;34m(\u001b[0m\u001b[0mos\u001b[0m\u001b[0;34m.\u001b[0m\u001b[0mpath\u001b[0m\u001b[0;34m.\u001b[0m\u001b[0mjoin\u001b[0m\u001b[0;34m(\u001b[0m\u001b[0mroot\u001b[0m\u001b[0;34m,\u001b[0m \u001b[0mself\u001b[0m\u001b[0;34m.\u001b[0m\u001b[0mtraining_file\u001b[0m\u001b[0;34m)\u001b[0m\u001b[0;34m)\u001b[0m\u001b[0;34m.\u001b[0m\u001b[0mread\u001b[0m\u001b[0;34m(\u001b[0m\u001b[0;34m)\u001b[0m\u001b[0;34m)\u001b[0m\u001b[0;34m\u001b[0m\u001b[0;34m\u001b[0m\u001b[0m\n\u001b[0m\u001b[1;32m     20\u001b[0m         \u001b[0mself\u001b[0m\u001b[0;34m.\u001b[0m\u001b[0msegment_extractor\u001b[0m \u001b[0;34m=\u001b[0m \u001b[0mself\u001b[0m\u001b[0;34m.\u001b[0m\u001b[0mFileSegmentExtractor\u001b[0m\u001b[0;34m(\u001b[0m\u001b[0mself\u001b[0m\u001b[0;34m.\u001b[0m\u001b[0mtraining_file\u001b[0m\u001b[0;34m,\u001b[0m \u001b[0mchunk_len\u001b[0m\u001b[0;34m)\u001b[0m\u001b[0;34m\u001b[0m\u001b[0;34m\u001b[0m\u001b[0m\n\u001b[1;32m     21\u001b[0m \u001b[0;34m\u001b[0m\u001b[0m\n",
      "\u001b[0;32m/usr/lib/python3.6/encodings/ascii.py\u001b[0m in \u001b[0;36mdecode\u001b[0;34m(self, input, final)\u001b[0m\n\u001b[1;32m     24\u001b[0m \u001b[0;32mclass\u001b[0m \u001b[0mIncrementalDecoder\u001b[0m\u001b[0;34m(\u001b[0m\u001b[0mcodecs\u001b[0m\u001b[0;34m.\u001b[0m\u001b[0mIncrementalDecoder\u001b[0m\u001b[0;34m)\u001b[0m\u001b[0;34m:\u001b[0m\u001b[0;34m\u001b[0m\u001b[0;34m\u001b[0m\u001b[0m\n\u001b[1;32m     25\u001b[0m     \u001b[0;32mdef\u001b[0m \u001b[0mdecode\u001b[0m\u001b[0;34m(\u001b[0m\u001b[0mself\u001b[0m\u001b[0;34m,\u001b[0m \u001b[0minput\u001b[0m\u001b[0;34m,\u001b[0m \u001b[0mfinal\u001b[0m\u001b[0;34m=\u001b[0m\u001b[0;32mFalse\u001b[0m\u001b[0;34m)\u001b[0m\u001b[0;34m:\u001b[0m\u001b[0;34m\u001b[0m\u001b[0;34m\u001b[0m\u001b[0m\n\u001b[0;32m---> 26\u001b[0;31m         \u001b[0;32mreturn\u001b[0m \u001b[0mcodecs\u001b[0m\u001b[0;34m.\u001b[0m\u001b[0mascii_decode\u001b[0m\u001b[0;34m(\u001b[0m\u001b[0minput\u001b[0m\u001b[0;34m,\u001b[0m \u001b[0mself\u001b[0m\u001b[0;34m.\u001b[0m\u001b[0merrors\u001b[0m\u001b[0;34m)\u001b[0m\u001b[0;34m[\u001b[0m\u001b[0;36m0\u001b[0m\u001b[0;34m]\u001b[0m\u001b[0;34m\u001b[0m\u001b[0;34m\u001b[0m\u001b[0m\n\u001b[0m\u001b[1;32m     27\u001b[0m \u001b[0;34m\u001b[0m\u001b[0m\n\u001b[1;32m     28\u001b[0m \u001b[0;32mclass\u001b[0m \u001b[0mStreamWriter\u001b[0m\u001b[0;34m(\u001b[0m\u001b[0mCodec\u001b[0m\u001b[0;34m,\u001b[0m\u001b[0mcodecs\u001b[0m\u001b[0;34m.\u001b[0m\u001b[0mStreamWriter\u001b[0m\u001b[0;34m)\u001b[0m\u001b[0;34m:\u001b[0m\u001b[0;34m\u001b[0m\u001b[0;34m\u001b[0m\u001b[0m\n",
      "\u001b[0;31mUnicodeDecodeError\u001b[0m: 'ascii' codec can't decode byte 0xc2 in position 184148: ordinal not in range(128)"
     ]
    }
   ],
   "source": [
    "# def explore_data():\n",
    "#     all_characters = string.printable\n",
    "#     n_characters = len(all_characters)\n",
    "\n",
    "#     file = unidecode.unidecode(open('./text_files/text_files/lotr.txt').read())\n",
    "#     file_len = len(file)\n",
    "#     print('file_len =', file_len)\n",
    "\n",
    "#     chunk_len = 200\n",
    "\n",
    "#     def random_chunk():\n",
    "#         start_index = random.randint(0, file_len - chunk_len)\n",
    "#         end_index = start_index + chunk_len + 1\n",
    "#         return file[start_index:end_index]\n",
    "\n",
    "#     print(random_chunk())\n",
    "    \n",
    "# explore_data()\n",
    "\n",
    "dataset = TextDataset()"
   ]
  },
  {
   "cell_type": "markdown",
   "metadata": {
    "colab_type": "text",
    "id": "IyYLpLrZ2Q0e"
   },
   "source": [
    "# GRU Implementation"
   ]
  },
  {
   "cell_type": "code",
   "execution_count": 0,
   "metadata": {
    "colab": {},
    "colab_type": "code",
    "collapsed": true,
    "id": "hUeB1dTM19hR"
   },
   "outputs": [],
   "source": [
    "class GRU(nn.Module):\n",
    "    def __init__(self, input_size, hidden_size):\n",
    "        super(GRU, self).__init__()\n",
    "        self.input_size = input_size\n",
    "        self.hidden_size = hidden_size\n",
    "        \n",
    "        self.sig = nn.Sigmoid()\n",
    "        self.tanh = nn.Tanh()\n",
    "        self.wr = nn.Linear(input_size + hidden_size, hidden_size)\n",
    "        self.wz = nn.Linear(input_size + hidden_size, hidden_size)\n",
    "        self.w = nn.Linear(input_size + hidden_size, hidden_size)\n",
    "        \n",
    "    def forward(self, x_input, prev_hidden):\n",
    "        zt = self.sig(self.wz(torch.cat((x_input, prev_hidden), dim=2)))\n",
    "        rt = self.sig(self.wr(torch.cat((x_input, prev_hidden), dim=2)))\n",
    "        h_tilde = self.tanh(self.w(torch.cat((torch.mul(rt, prev_hidden), x_input), dim=2)))\n",
    "        ht = torch.mul((1 - zt), prev_hidden) + torch.mul(zt, h_tilde)\n",
    "        return ht, ht"
   ]
  },
  {
   "cell_type": "markdown",
   "metadata": {
    "colab_type": "text",
    "id": "dVOONUQJKW3j"
   },
   "source": [
    "# RNN"
   ]
  },
  {
   "cell_type": "code",
   "execution_count": 0,
   "metadata": {
    "colab": {},
    "colab_type": "code",
    "collapsed": true,
    "id": "h8K3iqVdTT5U"
   },
   "outputs": [],
   "source": [
    "class RNN(nn.Module):\n",
    "    def __init__(self, input_size, hidden_size, output_size, n_layers=1):\n",
    "        super(RNN, self).__init__()\n",
    "\n",
    "        # Input: An integer encoding of the character\n",
    "        self.input_size = input_size\n",
    "        # Output: A categorical distribution over characters\n",
    "        self.output_size = output_size\n",
    "        self.hidden_size = hidden_size\n",
    "        self.n_layers = n_layers\n",
    "        \n",
    "        # An embedding layer is different from a linear layer because it provides\n",
    "        # lookup capability -- each character has its own trained embedding. A\n",
    "        # linear layer is different, as all input characters share the same weights\n",
    "        self.embedding = nn.Embedding(self.input_size, self.hidden_size)\n",
    "        self.relu = nn.ReLU()\n",
    "        # The first argument is self.hidden_size because we've embedded the input to be the same size as the hidden_state\n",
    "        self.gru = GRU(self.hidden_size, self.hidden_size)\n",
    "        self.to_output_size = nn.Linear(self.hidden_size, self.output_size)\n",
    "        self.softmax = nn.LogSoftmax(dim=1) #dim=1\n",
    "\n",
    "    def forward(self, input_char, hidden_state):\n",
    "        embed = self.embedding(input_char).view(1,1,-1)\n",
    "        output, hidden = self.gru(embed, hidden_state)\n",
    "        output = self.relu(self.to_output_size(output))\n",
    "        return output, hidden\n",
    "    \n",
    "    def init_hidden(self):\n",
    "        return torch.zeros(self.n_layers, 1, self.hidden_size)"
   ]
  },
  {
   "cell_type": "markdown",
   "metadata": {
    "colab_type": "text",
    "id": "evbm5yBq2Ycf"
   },
   "source": [
    "# Training Loop"
   ]
  },
  {
   "cell_type": "code",
   "execution_count": 0,
   "metadata": {
    "colab": {},
    "colab_type": "code",
    "collapsed": true,
    "id": "wB0sd9AGK9n3"
   },
   "outputs": [],
   "source": [
    "def train(input_string, target_string, decoder, decoder_optimizer, criterion):\n",
    "    # initialize hidden layers, set up gradient and loss\n",
    "    loss = 0\n",
    "    hidden = decoder.init_hidden()\n",
    "    num_classes = len(string.printable)\n",
    "    i = 0\n",
    "    decoder_optimizer.zero_grad()\n",
    "    \n",
    "    for in_char, target_char in zip(input_string, target_string):\n",
    "        \n",
    "        \n",
    "        char_hat, hidden = decoder(in_char, hidden)\n",
    "        target_char = target_char.unsqueeze(0)\n",
    "        loss += criterion(char_hat.squeeze(0), target_char)\n",
    "    \n",
    "        i += 1\n",
    "        \n",
    "    loss.backward()\n",
    "    decoder_optimizer.step()\n",
    "        \n",
    "    return loss.item() / len(input_string)\n",
    "        \n",
    "    \n",
    "def scope():\n",
    "    all_characters = string.printable\n",
    "    n_epochs = 5000\n",
    "    print_every = 500\n",
    "    plot_every = 10\n",
    "    in_size = len(all_characters)\n",
    "    hidden_size = 100\n",
    "    output_size = len(all_characters)\n",
    "    lr = 0.005\n",
    "    n_layers = 1\n",
    "    file_name = \"mj.txt\"\n",
    "    \n",
    "    def char_tensor(string):\n",
    "        tensor = torch.zeros(len(string)).long()\n",
    "        for c in range(len(string)):                \n",
    "            tensor[c] = all_characters.index(string[c])\n",
    "        return tensor\n",
    "    \n",
    "    def evaluate(prime_str='A', predict_len=100, temperature=0.8):\n",
    "        \n",
    "        hidden = decoder.init_hidden()\n",
    "        predicted = prime_str\n",
    "        prime_input = char_tensor(prime_str)\n",
    "\n",
    "        # Use priming string to \"build up\" hidden state\n",
    "        for p in range(len(prime_str) - 1):\n",
    "            _, hidden = decoder(prime_input[p], hidden)\n",
    "        inp = prime_input[-1]\n",
    "\n",
    "        for p in range(predict_len):\n",
    "            \n",
    "            output, hidden = decoder(inp, hidden)\n",
    "            # Sample from the network as a multinomial distribution\n",
    "            output_dist = output.data.view(-1).div(temperature).exp()\n",
    "            top_i = torch.multinomial(output_dist, 1)[0]\n",
    "            \n",
    "            char_choice = all_characters[top_i]\n",
    "            inp = char_tensor(char_choice)\n",
    "            predicted += char_choice\n",
    "\n",
    "        return predicted\n",
    "    \n",
    "    train_dataset = TextDataset(file_name=file_name, upload_files=True)\n",
    "    \n",
    "    decoder = RNN(in_size, hidden_size, output_size, n_layers=n_layers)\n",
    "    \n",
    "    decoder_optimizer = optim.Adam(decoder.parameters(), lr=lr)\n",
    "    criterion = nn.CrossEntropyLoss()\n",
    "    \n",
    "    all_losses = []\n",
    "    running_loss = 0\n",
    "    start = time.time()\n",
    "    for epoch in range(n_epochs + 1):\n",
    "        \n",
    "        input_string, target_string = train_dataset.segment_extractor.random_training_set()\n",
    "        loss_ = train(input_string, target_string, decoder, decoder_optimizer, criterion)\n",
    "        running_loss += loss_\n",
    "        \n",
    "        if epoch % print_every == 0:\n",
    "            print('[%s (%d %d%%) %.4f]' % (time.time() - start, epoch, epoch / n_epochs * 100, loss_))\n",
    "            print(evaluate('Wh', 100), '\\n')\n",
    "            \n",
    "        if epoch % plot_every == 0:\n",
    "            all_losses.append(running_loss / (epoch + 1))\n",
    "            \n",
    "    plt.plot(range(len(all_losses)), all_losses, label='Loss')\n",
    "    plt.xlabel(\"Epoch / {}\".format(plot_every))\n",
    "    plt.ylabel(\"Loss\")"
   ]
  },
  {
   "cell_type": "markdown",
   "metadata": {
    "colab_type": "text",
    "id": "A0iXw1bS2gax"
   },
   "source": [
    "# Results - Michael Jackson is back!"
   ]
  },
  {
   "cell_type": "code",
   "execution_count": 130,
   "metadata": {
    "colab": {
     "base_uri": "https://localhost:8080/",
     "height": 1742,
     "resources": {
      "http://localhost:8080/nbextensions/google.colab/files.js": {
       "data": "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",
       "headers": [
        [
         "content-type",
         "application/javascript"
        ]
       ],
       "ok": true,
       "status": 200,
       "status_text": ""
      }
     }
    },
    "colab_type": "code",
    "executionInfo": {
     "elapsed": 1112672,
     "status": "ok",
     "timestamp": 1539660874908,
     "user": {
      "displayName": "Jacob Stern",
      "photoUrl": "",
      "userId": "14292350991336586550"
     },
     "user_tz": 360
    },
    "id": "5B2xejIOLSGX",
    "outputId": "8bf4aeef-f2c2-43cf-8a62-d631ca71993f"
   },
   "outputs": [
    {
     "data": {
      "text/html": [
       "\n",
       "     <input type=\"file\" id=\"files-a032955b-a07d-4183-996f-a52a218db58d\" name=\"files[]\" multiple disabled />\n",
       "     <output id=\"result-a032955b-a07d-4183-996f-a52a218db58d\">\n",
       "      Upload widget is only available when the cell has been executed in the\n",
       "      current browser session. Please rerun this cell to enable.\n",
       "      </output>\n",
       "      <script src=\"/nbextensions/google.colab/files.js\"></script> "
      ],
      "text/plain": [
       "<IPython.core.display.HTML object>"
      ]
     },
     "metadata": {
      "tags": []
     },
     "output_type": "display_data"
    },
    {
     "name": "stdout",
     "output_type": "stream",
     "text": [
      "Saving mj.txt to mj.txt\n",
      "[0.21973276138305664 (0 0%) 4.6048]\n",
      "Wh!f/ok{7G\\G?icq.3w1B\\c775:j?\t\\\"q\f",
      "2MM_O$UQ~^!Ykp-2ZPWtVjIRKa`ZM<H !='\"j)\f",
      "h8gfH3KKy89|RoDfX;<6\u000b",
      "7nn6\tu8' \n",
      "\n",
      "[110.88017725944519 (500 10%) 1.8180]\n",
      "Wht swe\n",
      "\n",
      "\n",
      "Ooow we're it she dreatake Ne love my haod I and thoug heart fechell you\n",
      "\n",
      "Is Chin' al can \n",
      "I \n",
      "\n",
      "[220.07144808769226 (1000 20%) 2.0049]\n",
      "Whenny beat me it's rid/ressay\n",
      "We're be say it me firlone\n",
      "Leave mangeude agsacky bosthout it\n",
      "Don't let \n",
      "\n",
      "[329.8291029930115 (1500 30%) 1.6105]\n",
      "Who....\n",
      "\n",
      "3ru\n",
      "A not a hear is me in gonna the long\n",
      "Oh when be all away\n",
      "You know now\n",
      "I'm beyout a brone  \n",
      "\n",
      "[441.4710786342621 (2000 40%) 1.9380]\n",
      "When I gow\n",
      "Share the wantbess hay she butter sky\n",
      "The show is have on baby\n",
      "You the by the have the morn \n",
      "\n",
      "[551.5370712280273 (2500 50%) 1.5780]\n",
      "When What Of Me\n",
      "You &chiving Me (Your Reallyou Make A My Have Michance Off]\n",
      "Gon On Te Her Me\n",
      "(Whone Wo \n",
      "\n",
      "[661.6849853992462 (3000 60%) 0.8295]\n",
      "What back in dance\n",
      "You tree the dange mine\n",
      "\n",
      "Would no precually get about on they don't farcessure\n",
      "Anyt \n",
      "\n",
      "[773.3375678062439 (3500 70%) 1.7683]\n",
      "What begriever\n",
      "How my her ride me)\n",
      "\n",
      "You round\n",
      "(It beat that you hand)\n",
      "He's girl so get you alone\n",
      "Thing \n",
      "\n",
      "[883.0371577739716 (4000 80%) 1.2384]\n",
      "What or the light bring have again..., be you like from you see the hill there wiske there's the mes\n",
      "\n",
      " \n",
      "\n",
      "[991.9847791194916 (4500 90%) 1.7827]\n",
      "Who get you\n",
      "\n",
      "I'm baby no no\n",
      "Out the goin' said\n",
      "\n",
      "@arm nothing the know \n",
      "We'ran you going to me baby\n",
      "\n",
      ")o \n",
      "\n",
      "[1102.9047782421112 (5000 100%) 1.5356]\n",
      "When If Wants, You In The Was Change\n",
      "One With Me\n",
      "You Care And Workin'\n",
      "Don'\n",
      "Don't Change The (Will Tah) \n",
      "\n"
     ]
    },
    {
     "data": {
      "image/png": "[encoded data removed]",
      "text/plain": [
       "<matplotlib.figure.Figure at 0x7fb732234fd0>"
      ]
     },
     "metadata": {
      "tags": []
     },
     "output_type": "display_data"
    }
   ],
   "source": [
    "scope()"
   ]
  },
  {
   "cell_type": "code",
   "execution_count": 0,
   "metadata": {
    "colab": {},
    "colab_type": "code",
    "collapsed": true,
    "id": "MUhS0abQWOyl"
   },
   "outputs": [],
   "source": [
    "# To do: \n",
    "# Include option for reading lines at a time\n",
    "# Include option for multiple layers"
   ]
  }
 ],
 "metadata": {
  "colab": {
   "collapsed_sections": [
    "9gj3UWCw2J6q",
    "D-0hC1GV14Gy",
    "IyYLpLrZ2Q0e",
    "dVOONUQJKW3j",
    "evbm5yBq2Ycf",
    "A0iXw1bS2gax"
   ],
   "name": "Lab6CharRNN",
   "provenance": [],
   "version": "0.3.2"
  },
  "kernelspec": {
   "display_name": "Python 3",
   "language": "python",
   "name": "python3"
  },
  "language_info": {
   "codemirror_mode": {
    "name": "ipython",
    "version": 3
   },
   "file_extension": ".py",
   "mimetype": "text/x-python",
   "name": "python",
   "nbconvert_exporter": "python",
   "pygments_lexer": "ipython3",
   "version": "3.6.8"
  }
 },
 "nbformat": 4,
 "nbformat_minor": 1
}
